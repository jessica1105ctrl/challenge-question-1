{
  "nbformat": 4,
  "nbformat_minor": 0,
  "metadata": {
    "colab": {
      "provenance": [],
      "authorship_tag": "ABX9TyNO+MKX59Mt56ffwwp0aRRa",
      "include_colab_link": true
    },
    "kernelspec": {
      "name": "python3",
      "display_name": "Python 3"
    },
    "language_info": {
      "name": "python"
    }
  },
  "cells": [
    {
      "cell_type": "markdown",
      "metadata": {
        "id": "view-in-github",
        "colab_type": "text"
      },
      "source": [
        "<a href=\"https://colab.research.google.com/github/jessica1105ctrl/challenge-question-1/blob/main/Untitled1.ipynb\" target=\"_parent\"><img src=\"https://colab.research.google.com/assets/colab-badge.svg\" alt=\"Open In Colab\"/></a>"
      ]
    },
    {
      "cell_type": "code",
      "execution_count": 4,
      "metadata": {
        "colab": {
          "base_uri": "https://localhost:8080/"
        },
        "id": "3G1bpU1_3eIj",
        "outputId": "5b8016b1-75a3-4470-a67c-90a3aef1e41f"
      },
      "outputs": [
        {
          "output_type": "stream",
          "name": "stdout",
          "text": [
            "['Ram', 12, 'Shyam', 10, 'Aman', 3]\n",
            "[3, 10, 12]\n",
            "['Aman', 'Ram', 'Shyam']\n",
            "[3, 10, 12, 'Aman', 'Ram', 'Shyam']\n"
          ]
        }
      ],
      "source": [
        "L=[\"Ram\",12,\"Shyam\",10,\"Aman\",3]\n",
        "print(L)\n",
        "L1=[]\n",
        "L2=[]\n",
        "for i in L:\n",
        "  try:\n",
        "     L1.append(int(i))\n",
        "  except:\n",
        "      L2.append(i)\n",
        "L1.sort()\n",
        "L2.sort()\n",
        "L3=L1+L2\n",
        "print(L1)\n",
        "print(L2)\n",
        "print(L3)\n"
      ]
    }
  ]
}